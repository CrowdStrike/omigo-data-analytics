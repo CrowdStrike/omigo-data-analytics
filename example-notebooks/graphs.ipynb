{
 "cells": [
  {
   "cell_type": "code",
   "execution_count": 1,
   "id": "directed-marshall",
   "metadata": {},
   "outputs": [
    {
     "data": {
      "text/html": [
       "<style>.container { width:100% !important; }</style>"
      ],
      "text/plain": [
       "<IPython.core.display.HTML object>"
      ]
     },
     "metadata": {},
     "output_type": "display_data"
    },
    {
     "data": {
      "text/html": [
       "<style>.container { height:200% !important; }</style>"
      ],
      "text/plain": [
       "<IPython.core.display.HTML object>"
      ]
     },
     "metadata": {},
     "output_type": "display_data"
    }
   ],
   "source": [
    "from omigo_core import tsv\n",
    "from omigo_core import tsvutils\n",
    "from omigo_core import utils\n",
    "from omigo_ext import graphviz_ext\n",
    "\n",
    "from IPython.core.display import display, HTML\n",
    "display(HTML(\"<style>.container { width:100% !important; }</style>\"))\n",
    "display(HTML(\"<style>.container { height:200% !important; }</style>\"))"
   ]
  },
  {
   "cell_type": "code",
   "execution_count": 6,
   "id": "thermal-anaheim",
   "metadata": {},
   "outputs": [],
   "source": [
    "vtsv = tsv.TSV(\"\\t\".join([\"id\", \"name\", \"mylabel\", \"size\"]), []) \\\n",
    "    .add_map_as_row({\"id\": \"a1\", \"name\": \"A1\", \"mylabel\": \"label1\", \"size\": \"big\"}) \\\n",
    "    .add_map_as_row({\"id\": \"a2\", \"name\": \"A2\", \"mylabel\": \"label2\", \"size\": \"big\"}) \\\n",
    "    .add_map_as_row({\"id\": \"a3\", \"name\": \"A3\", \"mylabel\": \"label3\", \"size\": \"small\"}) \\\n",
    "    .add_map_as_row({\"id\": \"a4\", \"name\": \"A4\", \"mylabel\": \"label4\", \"size\": \"big\"}) \\\n",
    "    .add_map_as_row({\"id\": \"a5\", \"name\": \"A5\", \"mylabel\": \"label5\", \"size\": \"small\"}) \\\n",
    "    .add_map_as_row({\"id\": \"a7\", \"name\": \"A7\", \"mylabel\": \"label7\", \"size\": \"small\"})\n",
    "\n",
    "etsv = tsv.TSV(\"\\t\".join([\"src\", \"dest\", \"dir\"]), []) \\\n",
    "    .add_map_as_row({\"src\": \"a1\", \"dest\": \"a2\", \"dir\": \"out\"}) \\\n",
    "    .add_map_as_row({\"src\": \"a1\", \"dest\": \"a3\", \"dir\": \"out\"}) \\\n",
    "    .add_map_as_row({\"src\": \"a1\", \"dest\": \"a4\", \"dir\": \"out\"}) \\\n",
    "    .add_map_as_row({\"src\": \"a2\", \"dest\": \"a4\", \"dir\": \"out\"}) \\\n",
    "    .add_map_as_row({\"src\": \"a3\", \"dest\": \"a4\", \"dir\": \"out\"}) \\\n",
    "    .add_map_as_row({\"src\": \"a4\", \"dest\": \"a5\", \"dir\": \"out\"}) \\\n",
    "    .add_map_as_row({\"src\": \"a5\", \"dest\": \"a1\", \"dir\": \"out\"}) \\\n",
    "    .add_map_as_row({\"src\": \"a5\", \"dest\": \"a6\", \"dir\": \"out\"}) \\\n",
    "    .add_map_as_row({\"src\": \"a5\", \"dest\": \"a7\", \"dir\": \"out\"}) \\\n",
    "    .add_const(\"type\", \"unknown\")"
   ]
  },
  {
   "cell_type": "code",
   "execution_count": 7,
   "id": "lesbian-mechanics",
   "metadata": {},
   "outputs": [
    {
     "name": "stdout",
     "output_type": "stream",
     "text": [
      "id\tname\tmylabel\tsize \n",
      "a1\tA1  \tlabel1 \tbig  \n",
      "a2\tA2  \tlabel2 \tbig  \n",
      "a3\tA3  \tlabel3 \tsmall\n",
      "a4\tA4  \tlabel4 \tbig  \n",
      "a5\tA5  \tlabel5 \tsmall\n",
      "a7\tA7  \tlabel7 \tsmall\n"
     ]
    },
    {
     "data": {
      "text/plain": [
       "<omigo_core.tsv.TSV at 0x7f71affcfa90>"
      ]
     },
     "execution_count": 7,
     "metadata": {},
     "output_type": "execute_result"
    }
   ],
   "source": [
    "vtsv.show()"
   ]
  },
  {
   "cell_type": "code",
   "execution_count": 8,
   "id": "convertible-bacteria",
   "metadata": {},
   "outputs": [
    {
     "name": "stdout",
     "output_type": "stream",
     "text": [
      "src\tdest\tdir\ttype   \n",
      "a1 \ta2  \tout\tunknown\n",
      "a1 \ta3  \tout\tunknown\n",
      "a1 \ta4  \tout\tunknown\n",
      "a2 \ta4  \tout\tunknown\n",
      "a3 \ta4  \tout\tunknown\n",
      "a4 \ta5  \tout\tunknown\n",
      "a5 \ta1  \tout\tunknown\n",
      "a5 \ta6  \tout\tunknown\n",
      "a5 \ta7  \tout\tunknown\n"
     ]
    },
    {
     "data": {
      "text/plain": [
       "<omigo_core.tsv.TSV at 0x7f71affcfa60>"
      ]
     },
     "execution_count": 8,
     "metadata": {},
     "output_type": "execute_result"
    }
   ],
   "source": [
    "etsv.show()"
   ]
  },
  {
   "cell_type": "code",
   "execution_count": 9,
   "id": "completed-reviewer",
   "metadata": {},
   "outputs": [
    {
     "name": "stdout",
     "output_type": "stream",
     "text": [
      "[WARN]: There are edges that dont have vertex information: {'a6'}\n",
      "[INFO]: Creating a fallback vertex map with the vertex id\n"
     ]
    },
    {
     "data": {
      "image/svg+xml": [
       "<?xml version=\"1.0\" encoding=\"UTF-8\" standalone=\"no\"?>\n",
       "<!DOCTYPE svg PUBLIC \"-//W3C//DTD SVG 1.1//EN\"\n",
       " \"http://www.w3.org/Graphics/SVG/1.1/DTD/svg11.dtd\">\n",
       "<!-- Generated by graphviz version 2.43.0 (0)\n",
       " -->\n",
       "<!-- Title: G Pages: 1 -->\n",
       "<svg width=\"526pt\" height=\"543pt\"\n",
       " viewBox=\"0.00 0.00 525.65 542.86\" xmlns=\"http://www.w3.org/2000/svg\" xmlns:xlink=\"http://www.w3.org/1999/xlink\">\n",
       "<g id=\"graph0\" class=\"graph\" transform=\"scale(1 1) rotate(0) translate(4 538.86)\">\n",
       "<title>G</title>\n",
       "<polygon fill=\"white\" stroke=\"transparent\" points=\"-4,4 -4,-538.86 521.65,-538.86 521.65,4 -4,4\"/>\n",
       "<!-- a1 -->\n",
       "<g id=\"node1\" class=\"node\">\n",
       "<title>a1</title>\n",
       "<polygon fill=\"lightgrey\" stroke=\"black\" points=\"450,-534.86 302,-534.86 302,-481.86 450,-481.86 450,-534.86\"/>\n",
       "<text text-anchor=\"middle\" x=\"376\" y=\"-519.66\" font-family=\"Times,serif\" font-size=\"14.00\">A1</text>\n",
       "<text text-anchor=\"middle\" x=\"376\" y=\"-504.66\" font-family=\"Times,serif\" font-size=\"14.00\">[mylabel = label1]</text>\n",
       "<text text-anchor=\"middle\" x=\"376\" y=\"-489.66\" font-family=\"Times,serif\" font-size=\"14.00\">[size = big]</text>\n",
       "</g>\n",
       "<!-- a2 -->\n",
       "<g id=\"node2\" class=\"node\">\n",
       "<title>a2</title>\n",
       "<polygon fill=\"lightgrey\" stroke=\"black\" points=\"148,-419.88 0,-419.88 0,-366.88 148,-366.88 148,-419.88\"/>\n",
       "<text text-anchor=\"middle\" x=\"74\" y=\"-404.68\" font-family=\"Times,serif\" font-size=\"14.00\">A2</text>\n",
       "<text text-anchor=\"middle\" x=\"74\" y=\"-389.68\" font-family=\"Times,serif\" font-size=\"14.00\">[mylabel = label2]</text>\n",
       "<text text-anchor=\"middle\" x=\"74\" y=\"-374.68\" font-family=\"Times,serif\" font-size=\"14.00\">[size = big]</text>\n",
       "</g>\n",
       "<!-- a1&#45;&gt;a2 -->\n",
       "<g id=\"edge1\" class=\"edge\">\n",
       "<title>a1&#45;&gt;a2</title>\n",
       "<path fill=\"none\" stroke=\"black\" d=\"M301.97,-483.1C259.29,-468.72 204.78,-449.67 157,-430.86 151.46,-428.68 145.75,-426.35 140.04,-423.96\"/>\n",
       "<polygon fill=\"black\" stroke=\"black\" points=\"141.03,-420.58 130.46,-419.9 138.3,-427.02 141.03,-420.58\"/>\n",
       "<text text-anchor=\"middle\" x=\"253\" y=\"-452.66\" font-family=\"Times,serif\" font-size=\"14.00\">out</text>\n",
       "</g>\n",
       "<!-- a3 -->\n",
       "<g id=\"node3\" class=\"node\">\n",
       "<title>a3</title>\n",
       "<ellipse fill=\"lightgreen\" stroke=\"lightgreen\" cx=\"271\" cy=\"-393.38\" rx=\"104.8\" ry=\"37.45\"/>\n",
       "<text text-anchor=\"middle\" x=\"271\" y=\"-404.68\" font-family=\"Times,serif\" font-size=\"14.00\">A3</text>\n",
       "<text text-anchor=\"middle\" x=\"271\" y=\"-389.68\" font-family=\"Times,serif\" font-size=\"14.00\">[mylabel = label3]</text>\n",
       "<text text-anchor=\"middle\" x=\"271\" y=\"-374.68\" font-family=\"Times,serif\" font-size=\"14.00\">[size = small]</text>\n",
       "</g>\n",
       "<!-- a1&#45;&gt;a3 -->\n",
       "<g id=\"edge2\" class=\"edge\">\n",
       "<title>a1&#45;&gt;a3</title>\n",
       "<path fill=\"none\" stroke=\"black\" d=\"M352.17,-481.72C339.91,-468.53 324.64,-452.1 310.66,-437.05\"/>\n",
       "<polygon fill=\"black\" stroke=\"black\" points=\"312.86,-434.28 303.49,-429.34 307.73,-439.05 312.86,-434.28\"/>\n",
       "<text text-anchor=\"middle\" x=\"344\" y=\"-452.66\" font-family=\"Times,serif\" font-size=\"14.00\">out</text>\n",
       "</g>\n",
       "<!-- a4 -->\n",
       "<g id=\"node4\" class=\"node\">\n",
       "<title>a4</title>\n",
       "<polygon fill=\"lightgrey\" stroke=\"black\" points=\"413,-304.91 265,-304.91 265,-251.91 413,-251.91 413,-304.91\"/>\n",
       "<text text-anchor=\"middle\" x=\"339\" y=\"-289.71\" font-family=\"Times,serif\" font-size=\"14.00\">A4</text>\n",
       "<text text-anchor=\"middle\" x=\"339\" y=\"-274.71\" font-family=\"Times,serif\" font-size=\"14.00\">[mylabel = label4]</text>\n",
       "<text text-anchor=\"middle\" x=\"339\" y=\"-259.71\" font-family=\"Times,serif\" font-size=\"14.00\">[size = big]</text>\n",
       "</g>\n",
       "<!-- a1&#45;&gt;a4 -->\n",
       "<g id=\"edge3\" class=\"edge\">\n",
       "<title>a1&#45;&gt;a4</title>\n",
       "<path fill=\"none\" stroke=\"black\" d=\"M382.54,-481.64C389.17,-451.07 396.9,-398.8 385,-355.91 380.86,-340.98 372.94,-326.05 364.83,-313.4\"/>\n",
       "<polygon fill=\"black\" stroke=\"black\" points=\"367.69,-311.39 359.22,-305.02 361.88,-315.28 367.69,-311.39\"/>\n",
       "<text text-anchor=\"middle\" x=\"403\" y=\"-389.68\" font-family=\"Times,serif\" font-size=\"14.00\">out</text>\n",
       "</g>\n",
       "<!-- a2&#45;&gt;a4 -->\n",
       "<g id=\"edge4\" class=\"edge\">\n",
       "<title>a2&#45;&gt;a4</title>\n",
       "<path fill=\"none\" stroke=\"black\" d=\"M131.99,-366.75C140.38,-363.09 148.9,-359.39 157,-355.91 193.55,-340.19 234.38,-323 268.09,-308.9\"/>\n",
       "<polygon fill=\"black\" stroke=\"black\" points=\"269.52,-312.1 277.4,-305.01 266.82,-305.64 269.52,-312.1\"/>\n",
       "<text text-anchor=\"middle\" x=\"244\" y=\"-326.71\" font-family=\"Times,serif\" font-size=\"14.00\">out</text>\n",
       "</g>\n",
       "<!-- a3&#45;&gt;a4 -->\n",
       "<g id=\"edge5\" class=\"edge\">\n",
       "<title>a3&#45;&gt;a4</title>\n",
       "<path fill=\"none\" stroke=\"black\" d=\"M292.52,-356.64C300.75,-342.96 310.12,-327.39 318.28,-313.83\"/>\n",
       "<polygon fill=\"black\" stroke=\"black\" points=\"321.28,-315.63 323.44,-305.25 315.29,-312.02 321.28,-315.63\"/>\n",
       "<text text-anchor=\"middle\" x=\"323\" y=\"-326.71\" font-family=\"Times,serif\" font-size=\"14.00\">out</text>\n",
       "</g>\n",
       "<!-- a5 -->\n",
       "<g id=\"node5\" class=\"node\">\n",
       "<title>a5</title>\n",
       "<ellipse fill=\"lightgreen\" stroke=\"lightgreen\" cx=\"413\" cy=\"-163.43\" rx=\"104.8\" ry=\"37.45\"/>\n",
       "<text text-anchor=\"middle\" x=\"413\" y=\"-174.73\" font-family=\"Times,serif\" font-size=\"14.00\">A5</text>\n",
       "<text text-anchor=\"middle\" x=\"413\" y=\"-159.73\" font-family=\"Times,serif\" font-size=\"14.00\">[mylabel = label5]</text>\n",
       "<text text-anchor=\"middle\" x=\"413\" y=\"-144.73\" font-family=\"Times,serif\" font-size=\"14.00\">[size = small]</text>\n",
       "</g>\n",
       "<!-- a4&#45;&gt;a5 -->\n",
       "<g id=\"edge6\" class=\"edge\">\n",
       "<title>a4&#45;&gt;a5</title>\n",
       "<path fill=\"none\" stroke=\"black\" d=\"M355.79,-251.77C364.13,-239.04 374.45,-223.28 384.02,-208.68\"/>\n",
       "<polygon fill=\"black\" stroke=\"black\" points=\"386.99,-210.53 389.54,-200.24 381.14,-206.69 386.99,-210.53\"/>\n",
       "<text text-anchor=\"middle\" x=\"388\" y=\"-222.71\" font-family=\"Times,serif\" font-size=\"14.00\">out</text>\n",
       "</g>\n",
       "<!-- a5&#45;&gt;a1 -->\n",
       "<g id=\"edge7\" class=\"edge\">\n",
       "<title>a5&#45;&gt;a1</title>\n",
       "<path fill=\"none\" stroke=\"black\" d=\"M420.19,-200.96C429.01,-253.02 440.36,-351.08 419,-430.86 415.1,-445.43 407.79,-460.16 400.29,-472.76\"/>\n",
       "<polygon fill=\"black\" stroke=\"black\" points=\"397.14,-471.19 394.83,-481.53 403.09,-474.89 397.14,-471.19\"/>\n",
       "<text text-anchor=\"middle\" x=\"443\" y=\"-326.71\" font-family=\"Times,serif\" font-size=\"14.00\">out</text>\n",
       "</g>\n",
       "<!-- a7 -->\n",
       "<g id=\"node6\" class=\"node\">\n",
       "<title>a7</title>\n",
       "<ellipse fill=\"lightgreen\" stroke=\"lightgreen\" cx=\"338\" cy=\"-37.48\" rx=\"104.8\" ry=\"37.45\"/>\n",
       "<text text-anchor=\"middle\" x=\"338\" y=\"-48.78\" font-family=\"Times,serif\" font-size=\"14.00\">A7</text>\n",
       "<text text-anchor=\"middle\" x=\"338\" y=\"-33.78\" font-family=\"Times,serif\" font-size=\"14.00\">[mylabel = label7]</text>\n",
       "<text text-anchor=\"middle\" x=\"338\" y=\"-18.78\" font-family=\"Times,serif\" font-size=\"14.00\">[size = small]</text>\n",
       "</g>\n",
       "<!-- a5&#45;&gt;a7 -->\n",
       "<g id=\"edge9\" class=\"edge\">\n",
       "<title>a5&#45;&gt;a7</title>\n",
       "<path fill=\"none\" stroke=\"black\" d=\"M391.31,-126.58C383.07,-112.96 373.58,-97.28 364.92,-82.96\"/>\n",
       "<polygon fill=\"black\" stroke=\"black\" points=\"367.82,-80.99 359.64,-74.25 361.83,-84.62 367.82,-80.99\"/>\n",
       "<text text-anchor=\"middle\" x=\"391\" y=\"-96.75\" font-family=\"Times,serif\" font-size=\"14.00\">out</text>\n",
       "</g>\n",
       "<!-- a6 -->\n",
       "<g id=\"node7\" class=\"node\">\n",
       "<title>a6</title>\n",
       "<ellipse fill=\"lightgreen\" stroke=\"lightgreen\" cx=\"488\" cy=\"-37.48\" rx=\"27\" ry=\"18\"/>\n",
       "<text text-anchor=\"middle\" x=\"488\" y=\"-33.78\" font-family=\"Times,serif\" font-size=\"14.00\">a6</text>\n",
       "</g>\n",
       "<!-- a5&#45;&gt;a6 -->\n",
       "<g id=\"edge8\" class=\"edge\">\n",
       "<title>a5&#45;&gt;a6</title>\n",
       "<path fill=\"none\" stroke=\"black\" d=\"M434.69,-126.58C447,-106.24 462.08,-81.31 473.06,-63.17\"/>\n",
       "<polygon fill=\"black\" stroke=\"black\" points=\"476.21,-64.73 478.39,-54.36 470.22,-61.1 476.21,-64.73\"/>\n",
       "<text text-anchor=\"middle\" x=\"466\" y=\"-96.75\" font-family=\"Times,serif\" font-size=\"14.00\">out</text>\n",
       "</g>\n",
       "</g>\n",
       "</svg>\n"
      ],
      "text/plain": [
       "<graphviz.sources.Source at 0x7f71b0019e50>"
      ]
     },
     "execution_count": 9,
     "metadata": {},
     "output_type": "execute_result"
    }
   ],
   "source": [
    "def custom_display_func(mp):\n",
    "    props = graphviz_ext.__dot_func_default__(mp)\n",
    "    if (mp[\"size\"] == \"big\"):\n",
    "        props[\"shape\"] = \"rectangle\"\n",
    "    else:\n",
    "        props[\"shape\"] = \"oval\"\n",
    "        props[\"color\"] = \"lightgreen\"\n",
    "        \n",
    "    return props    \n",
    "\n",
    "graphviz_ext.plot_graph(vtsv, etsv, \"id\", \"src\", \"dest\", vertex_display_id_col = \"name\", node_props = [\"id\", \"mylabel\", \"size\"], edge_props = [\"dir\"], custom_display_func = custom_display_func,\n",
    "    create_missing_vertices = True)"
   ]
  },
  {
   "cell_type": "code",
   "execution_count": null,
   "id": "373c22d0",
   "metadata": {},
   "outputs": [],
   "source": []
  },
  {
   "cell_type": "code",
   "execution_count": null,
   "id": "84ff0cea",
   "metadata": {},
   "outputs": [],
   "source": []
  },
  {
   "cell_type": "code",
   "execution_count": null,
   "id": "c216d545-0e48-4037-9d46-acac9745037f",
   "metadata": {},
   "outputs": [],
   "source": []
  }
 ],
 "metadata": {
  "kernelspec": {
   "display_name": "Python 3 (ipykernel)",
   "language": "python",
   "name": "python3"
  },
  "language_info": {
   "codemirror_mode": {
    "name": "ipython",
    "version": 3
   },
   "file_extension": ".py",
   "mimetype": "text/x-python",
   "name": "python",
   "nbconvert_exporter": "python",
   "pygments_lexer": "ipython3",
   "version": "3.8.10"
  }
 },
 "nbformat": 4,
 "nbformat_minor": 5
}
